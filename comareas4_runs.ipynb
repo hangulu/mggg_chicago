{
 "cells": [
  {
   "cell_type": "markdown",
   "metadata": {},
   "source": [
    "## Chicago Chain Runs\n",
    "#### Wards of Magnitude 4 (12) out of Community Areas\n",
    "\n",
    "This notebook performs the following chain run:\n",
    "- Out of community areas:\n",
    "    - However many districts that have magnitude 4: 12\n",
    "    - Population = 4 * pop/50\n",
    "    - Uses Metropolis-Hastings for acceptance\n",
    "        - Approximating function:\n",
    "            - Dev(ith alderman) = pop of their ward / ideal of ward - 1\n",
    "            - Dev_plan = sum of the squares of the above\n",
    "            - Gibbs distribution = P(part plan) \\prop e^(-Dev(plan))"
   ]
  },
  {
   "cell_type": "code",
   "execution_count": 1,
   "metadata": {},
   "outputs": [],
   "source": [
    "import pandas as pd\n",
    "import matplotlib.pyplot as plt\n",
    "import sys\n",
    "from functools import partial\n",
    "import pickle\n",
    "import math\n",
    "import random\n",
    "\n",
    "import gerrychain as gc\n",
    "from gerrychain.updaters import Tally, cut_edges\n",
    "import gerrychain.tree_proposals as tp\n",
    "from gerrychain import accept"
   ]
  },
  {
   "cell_type": "code",
   "execution_count": 2,
   "metadata": {},
   "outputs": [],
   "source": [
    "# Increase the recursion depth\n",
    "sys.setrecursionlimit(15000)"
   ]
  },
  {
   "cell_type": "code",
   "execution_count": 3,
   "metadata": {},
   "outputs": [
    {
     "name": "stderr",
     "output_type": "stream",
     "text": [
      "/Users/hakeemangulu/anaconda3/lib/python3.6/site-packages/gerrychain/graph/adjacency.py:68: UserWarning: Found overlaps among the given polygons. Indices of overlaps: {(1237, 2068), (1249, 2068), (1240, 2068)}\n",
      "  overlaps\n"
     ]
    }
   ],
   "source": [
    "# Create the graph\n",
    "# comareas = gc.Graph.from_file(\"./shapefiles/chicago_community_areas.shp\")\n",
    "precincts = gc.Graph.from_file(\"./shapefiles/chicago_precincts_2012.shp\")\n",
    "comareas = precincts"
   ]
  },
  {
   "cell_type": "code",
   "execution_count": 4,
   "metadata": {},
   "outputs": [],
   "source": [
    "# Create an initial plan that does not violate population constraints\n",
    "num_partitions = 50 // 4\n",
    "pop_col = \"TOTPOP\"\n",
    "pop_target = sum(comareas.nodes[node][pop_col] for node in comareas) / num_partitions\n",
    "\n",
    "assignment = tp.recursive_tree_part(\n",
    "    comareas,\n",
    "    parts=range(num_partitions),\n",
    "    pop_target=pop_target,\n",
    "    pop_col=pop_col,\n",
    "    epsilon=0.05\n",
    ")"
   ]
  },
  {
   "cell_type": "code",
   "execution_count": 5,
   "metadata": {},
   "outputs": [],
   "source": [
    "# Create an election object and updaters\n",
    "election = gc.Election(\"M15\", [\"Emanuel_M1\", \"Wilson_M15\", \"Fioretti_M\", \"Garcia_M15\", \"Walls_M15\"])\n",
    "updaters = {\"population\": gc.updaters.Tally(\"TOTPOP\", alias=\"population\"), \"M15\": election, \"cut_edges\": gc.updaters.cut_edges}\n",
    "\n",
    "# Create an initial partition\n",
    "initial = gc.GeographicPartition(\n",
    "    precincts,\n",
    "    assignment=assignment,\n",
    "    updaters=updaters)"
   ]
  },
  {
   "cell_type": "code",
   "execution_count": 16,
   "metadata": {},
   "outputs": [],
   "source": [
    "# Configure the ReCom proposal and constraints\n",
    "proposal_4 = partial(tp.recom,\n",
    "                      pop_col=pop_col,\n",
    "                      pop_target=pop_target,\n",
    "                      epsilon=0.05,\n",
    "                      node_repeats=10)\n",
    "\n",
    "compactness_bound = gc.constraints.UpperBound(\n",
    "    lambda p: len(p[\"cut_edges\"]),\n",
    "    2 * len(initial[\"cut_edges\"]))"
   ]
  },
  {
   "cell_type": "code",
   "execution_count": 17,
   "metadata": {},
   "outputs": [],
   "source": [
    "def metropolis_hastings(state, ideal_pop):\n",
    "    \"\"\"\n",
    "    Metropolis-Hastings Algorithm for state acceptance.\n",
    "    It explores the space ~25% of the time.\n",
    "    \n",
    "    state (Markov chain state): The proposed next state\n",
    "    ideal_pop (float): The ideal population of a district\n",
    "    return: bool for acceptance\n",
    "    \"\"\"\n",
    "    all_deviation = []\n",
    "    for ward, pop in state[\"population\"].items():\n",
    "        all_deviation.append(((pop / ideal_pop) - 1) ** 2)\n",
    "    plan_deviation = sum(all_deviation)\n",
    "    acceptance_prob = 0.75 * math.exp(-plan_deviation)\n",
    "    return (random.random() < acceptance_prob)"
   ]
  },
  {
   "cell_type": "code",
   "execution_count": 18,
   "metadata": {},
   "outputs": [],
   "source": [
    "# Configure Metropolis-Hastings\n",
    "met_hastings = partial(metropolis_hastings, ideal_pop=pop_target)"
   ]
  },
  {
   "cell_type": "code",
   "execution_count": 19,
   "metadata": {},
   "outputs": [],
   "source": [
    "# Configure the Markov Chain\n",
    "comareas_chain4 = gc.MarkovChain(\n",
    "    proposal=proposal_4,\n",
    "    constraints=[compactness_bound],\n",
    "    accept=met_hastings,\n",
    "    initial_state=initial,\n",
    "    total_steps=100)"
   ]
  },
  {
   "cell_type": "code",
   "execution_count": 21,
   "metadata": {},
   "outputs": [],
   "source": [
    "# Run the 50 ward chain\n",
    "chain4_results = {\"Emanuel_M1\": [],\n",
    "                   \"Wilson_M15\": [],\n",
    "                   \"Fioretti_M\": [],\n",
    "                   \"Garcia_M15\": [],\n",
    "                   \"Walls_M15\": []}\n",
    "\n",
    "for partition in comareas_chain4:\n",
    "    for key, _ in chain4_results.items():\n",
    "        chain4_results[key].append(sorted(partition[\"M15\"].percents(key)))"
   ]
  },
  {
   "cell_type": "code",
   "execution_count": 22,
   "metadata": {},
   "outputs": [],
   "source": [
    "# Create the DataFrames from the results\n",
    "chain4_dfs = {\"Emanuel_M1\": [],\n",
    "               \"Wilson_M15\": [],\n",
    "               \"Fioretti_M\": [],\n",
    "               \"Garcia_M15\": [],\n",
    "               \"Walls_M15\": []}\n",
    "\n",
    "for key, val in chain4_results.items():\n",
    "    chain4_dfs[key] = pd.DataFrame(val)"
   ]
  },
  {
   "cell_type": "code",
   "execution_count": 23,
   "metadata": {},
   "outputs": [
    {
     "data": {
      "image/png": "[encoded data removed]",
      "text/plain": [
       "<Figure size 864x720 with 1 Axes>"
      ]
     },
     "metadata": {},
     "output_type": "display_data"
    }
   ],
   "source": [
    "# Results visualized for Emanuel\n",
    "data = chain4_dfs[\"Emanuel_M1\"]\n",
    "fig, ax = plt.subplots(figsize=(12, 10))\n",
    "\n",
    "# Draw 50% line\n",
    "ax.axhline(0.5, color=\"#cccccc\")\n",
    "\n",
    "# Draw boxplot\n",
    "data.boxplot(ax=ax, positions=range(len(data.columns)))\n",
    "\n",
    "# Draw initial plan's Democratic vote %s (.iloc[0] gives the first row)\n",
    "data.iloc[0].plot(style=\"ro\", ax=ax)\n",
    "\n",
    "# Annotate\n",
    "ax.set_title(\"Comparing The Initial Plan To An Ensemble\")\n",
    "ax.set_ylabel(\"Emanuel's vote % (Chicago Mayoral 2015)\")\n",
    "ax.set_xlabel(\"Sorted districts\")\n",
    "ax.set_ylim(0, 1)\n",
    "ax.set_yticks([0, 0.25, 0.5, 0.75, 1])\n",
    "\n",
    "plt.show()"
   ]
  },
  {
   "cell_type": "code",
   "execution_count": 24,
   "metadata": {},
   "outputs": [],
   "source": [
    "# Store the dictionary of results for later\n",
    "with open(\"run_results/comareas4_results\", \"ab\") as file:\n",
    "    pickle.dump(chain4_dfs, file)"
   ]
  },
  {
   "cell_type": "code",
   "execution_count": null,
   "metadata": {},
   "outputs": [],
   "source": []
  }
 ],
 "metadata": {
  "kernelspec": {
   "display_name": "Python 3",
   "language": "python",
   "name": "python3"
  },
  "language_info": {
   "codemirror_mode": {
    "name": "ipython",
    "version": 3
   },
   "file_extension": ".py",
   "mimetype": "text/x-python",
   "name": "python",
   "nbconvert_exporter": "python",
   "pygments_lexer": "ipython3",
   "version": "3.6.5"
  }
 },
 "nbformat": 4,
 "nbformat_minor": 2
}
