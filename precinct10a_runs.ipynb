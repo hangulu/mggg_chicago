{
 "cells": [
  {
   "cell_type": "markdown",
   "metadata": {},
   "source": [
    "## Chicago Chain Runs\n",
    "#### 10 Wards Out Of Precincts, 3% Population Deviation\n",
    "\n",
    "This notebook performs the following chain run:\n",
    "- Out of precincts:\n",
    "    - 10 five-member wards\n",
    "        - Population deviation tolerance of 3%"
   ]
  },
  {
   "cell_type": "code",
   "execution_count": 11,
   "metadata": {},
   "outputs": [],
   "source": [
    "import pandas as pd\n",
    "import matplotlib.pyplot as plt\n",
    "import sys\n",
    "from functools import partial\n",
    "import pickle\n",
    "\n",
    "import gerrychain as gc\n",
    "from gerrychain.updaters import Tally, cut_edges\n",
    "import gerrychain.tree_proposals as tp\n",
    "from gerrychain import accept"
   ]
  },
  {
   "cell_type": "code",
   "execution_count": 2,
   "metadata": {},
   "outputs": [],
   "source": [
    "# Increase the recursion depth\n",
    "sys.setrecursionlimit(15000)"
   ]
  },
  {
   "cell_type": "code",
   "execution_count": 3,
   "metadata": {},
   "outputs": [
    {
     "name": "stderr",
     "output_type": "stream",
     "text": [
      "/Users/hakeemangulu/anaconda3/lib/python3.6/site-packages/gerrychain/graph/adjacency.py:68: UserWarning: Found overlaps among the given polygons. Indices of overlaps: {(1237, 2068), (1249, 2068), (1240, 2068)}\n",
      "  overlaps\n"
     ]
    }
   ],
   "source": [
    "# Create the graph\n",
    "precincts = gc.Graph.from_file(\"./shapefiles/chicago_precincts_2012.shp\")"
   ]
  },
  {
   "cell_type": "code",
   "execution_count": 4,
   "metadata": {},
   "outputs": [],
   "source": [
    "# Create an initial plan that does not violate population constraints\n",
    "num_partitions = 10\n",
    "pop_col = \"TOTPOP\"\n",
    "pop_target = sum(precincts.nodes[node][pop_col] for node in precincts) / num_partitions\n",
    "\n",
    "assignment = tp.recursive_tree_part(\n",
    "    precincts,\n",
    "    parts=range(num_partitions),\n",
    "    pop_target=pop_target,\n",
    "    pop_col=pop_col,\n",
    "    epsilon=0.03\n",
    ")"
   ]
  },
  {
   "cell_type": "code",
   "execution_count": 5,
   "metadata": {},
   "outputs": [],
   "source": [
    "# Create an election object and updaters\n",
    "election = gc.Election(\"M15\", [\"Emanuel_M1\", \"Wilson_M15\", \"Fioretti_M\", \"Garcia_M15\", \"Walls_M15\"])\n",
    "updaters = {\"population\": gc.updaters.Tally(\"TOTPOP\", alias=\"population\"), \"M15\": election, \"cut_edges\": gc.updaters.cut_edges}\n",
    "\n",
    "# Create an initial partition\n",
    "initial = gc.GeographicPartition(\n",
    "    precincts,\n",
    "    assignment=assignment,\n",
    "    updaters=updaters)"
   ]
  },
  {
   "cell_type": "code",
   "execution_count": 6,
   "metadata": {},
   "outputs": [],
   "source": [
    "# Configure the ReCom proposal and constraints\n",
    "proposal_10a = partial(tp.recom,\n",
    "                      pop_col=pop_col,\n",
    "                      pop_target=pop_target,\n",
    "                      epsilon=0.03,\n",
    "                      node_repeats=10)\n",
    "\n",
    "compactness_bound = gc.constraints.UpperBound(\n",
    "    lambda p: len(p[\"cut_edges\"]),\n",
    "    2 * len(initial[\"cut_edges\"]))"
   ]
  },
  {
   "cell_type": "code",
   "execution_count": 7,
   "metadata": {},
   "outputs": [],
   "source": [
    "# Configure the Markov Chain\n",
    "prec_chain10a = gc.MarkovChain(\n",
    "    proposal=proposal_10a,\n",
    "    constraints=[compactness_bound],\n",
    "    accept=accept.always_accept,\n",
    "    initial_state=initial,\n",
    "    total_steps=10000)"
   ]
  },
  {
   "cell_type": "code",
   "execution_count": 8,
   "metadata": {},
   "outputs": [],
   "source": [
    "# Run the 10 ward chain with 3% population deviation\n",
    "chain10a_results = {\"Emanuel_M1\": [],\n",
    "                   \"Wilson_M15\": [],\n",
    "                   \"Fioretti_M\": [],\n",
    "                   \"Garcia_M15\": [],\n",
    "                   \"Walls_M15\": []}\n",
    "\n",
    "for partition in prec_chain10a:\n",
    "    for key, _ in chain10a_results.items():\n",
    "        chain10a_results[key].append(sorted(partition[\"M15\"].percents(key)))"
   ]
  },
  {
   "cell_type": "code",
   "execution_count": 9,
   "metadata": {},
   "outputs": [],
   "source": [
    "# Create the DataFrames from the results\n",
    "chain10a_dfs = {\"Emanuel_M1\": [],\n",
    "               \"Wilson_M15\": [],\n",
    "               \"Fioretti_M\": [],\n",
    "               \"Garcia_M15\": [],\n",
    "               \"Walls_M15\": []}\n",
    "\n",
    "for key, val in chain10a_results.items():\n",
    "    chain10a_dfs[key] = pd.DataFrame(val)"
   ]
  },
  {
   "cell_type": "code",
   "execution_count": 10,
   "metadata": {},
   "outputs": [
    {
     "data": {
      "image/png": "[encoded data removed]",
      "text/plain": [
       "<Figure size 864x720 with 1 Axes>"
      ]
     },
     "metadata": {},
     "output_type": "display_data"
    }
   ],
   "source": [
    "# Results visualized for Emanuel\n",
    "data = chain10a_dfs[\"Emanuel_M1\"]\n",
    "fig, ax = plt.subplots(figsize=(12, 10))\n",
    "\n",
    "# Draw 50% line\n",
    "ax.axhline(0.5, color=\"#cccccc\")\n",
    "\n",
    "# Draw boxplot\n",
    "data.boxplot(ax=ax, positions=range(len(data.columns)))\n",
    "\n",
    "# Draw initial plan's Democratic vote %s (.iloc[0] gives the first row)\n",
    "data.iloc[0].plot(style=\"ro\", ax=ax)\n",
    "\n",
    "# Annotate\n",
    "ax.set_title(\"Comparing The Initial Plan To An Ensemble\")\n",
    "ax.set_ylabel(\"Emanuel's vote % (Chicago Mayoral 2015)\")\n",
    "ax.set_xlabel(\"Sorted districts\")\n",
    "ax.set_ylim(0, 1)\n",
    "ax.set_yticks([0, 0.25, 0.5, 0.75, 1])\n",
    "\n",
    "plt.show()"
   ]
  },
  {
   "cell_type": "code",
   "execution_count": 12,
   "metadata": {},
   "outputs": [],
   "source": [
    "# Store the dictionary of results for later\n",
    "with open(\"run_results/precinct10a_results\", \"ab\") as file:\n",
    "    pickle.dump(chain10a_dfs, file)"
   ]
  },
  {
   "cell_type": "code",
   "execution_count": null,
   "metadata": {},
   "outputs": [],
   "source": []
  }
 ],
 "metadata": {
  "kernelspec": {
   "display_name": "Python 3",
   "language": "python",
   "name": "python3"
  },
  "language_info": {
   "codemirror_mode": {
    "name": "ipython",
    "version": 3
   },
   "file_extension": ".py",
   "mimetype": "text/x-python",
   "name": "python",
   "nbconvert_exporter": "python",
   "pygments_lexer": "ipython3",
   "version": "3.6.5"
  }
 },
 "nbformat": 4,
 "nbformat_minor": 2
}
