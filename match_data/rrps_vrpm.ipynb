{
 "cells": [
  {
   "cell_type": "markdown",
   "metadata": {},
   "source": [
    "## Precinct Matching\n",
    "\n",
    "This notebook executes matches precincts in different cities by their demographc similarity."
   ]
  },
  {
   "cell_type": "code",
   "execution_count": 1,
   "metadata": {},
   "outputs": [],
   "source": [
    "import numpy as np\n",
    "import pandas as pd\n",
    "from scipy import spatial\n",
    "import collections\n",
    "import pickle\n",
    "import os"
   ]
  },
  {
   "cell_type": "code",
   "execution_count": 2,
   "metadata": {},
   "outputs": [],
   "source": [
    "# Define the races and the demographic columns\n",
    "races = ['white','black','hispanic','asian','middle eastern','undetermined']\n",
    "demo_cols = ['NH_WHITE', 'NH_BLACK', 'NH_AMIN',\t'NH_ASIAN',\t'NH_NHPI', 'NH_OTHER', 'NH_2MORE', 'HISP']"
   ]
  },
  {
   "cell_type": "code",
   "execution_count": 3,
   "metadata": {},
   "outputs": [],
   "source": [
    "# Read in Chicago demographic data\n",
    "df_chic_demo = pd.read_csv('chicago_prec_demo.csv',index_col=0).dropna()[demo_cols]\n",
    "df_chic_demo.reindex(sorted(df_chic_demo.columns), axis=1)\n",
    "df_chic_demo = df_chic_demo[(df_chic_demo.T !=0).any()]"
   ]
  },
  {
   "cell_type": "code",
   "execution_count": 4,
   "metadata": {},
   "outputs": [],
   "source": [
    "# Read in Cambridge demographic data\n",
    "df_camb_demo = pd.read_csv('camb_prec_demo.csv',index_col=0).dropna()[demo_cols]\n",
    "df_camb_demo.reindex(sorted(df_camb_demo.columns), axis=1)\n",
    "df_camb_demo = df_camb_demo[(df_camb_demo.T !=0).any()]"
   ]
  },
  {
   "cell_type": "code",
   "execution_count": 5,
   "metadata": {},
   "outputs": [],
   "source": [
    "# Read in Minneapolis demographic data\n",
    "df_minn_demo = pd.read_csv('minn_prec_demo.csv',index_col=0).dropna()[demo_cols]\n",
    "df_minn_demo.reindex(sorted(df_minn_demo.columns), axis=1)\n",
    "df_minn_demo = df_minn_demo[(df_minn_demo.T !=0).any()]"
   ]
  },
  {
   "cell_type": "code",
   "execution_count": 6,
   "metadata": {},
   "outputs": [],
   "source": [
    "# Initialize a dictionary\n",
    "# keys: Chicago precincts\n",
    "# values: (P, s)\n",
    "# P is a precinct in another city\n",
    "# s is the cosine similarity in demographic space\n",
    "chic_dict = {}\n",
    "\n",
    "for row in df_chic_demo.itertuples():\n",
    "    distpairs1 = []\n",
    "    distpairs2 = []\n",
    "\n",
    "    for r2 in df_camb_demo.itertuples():\n",
    "        distpairs1.append((list(r2)[0],  1 - spatial.distance.cosine(list(row)[1:], list(r2)[1:])))\n",
    "\n",
    "    for r2 in df_minn_demo.itertuples():\n",
    "        distpairs2.append((list(r2)[0],  1 - spatial.distance.cosine(list(row)[1:], list(r2)[1:])))\n",
    "    \n",
    "    # We're grabbing the 5 most similar in cambridge and the 15 most similar in mpls\n",
    "    distpairs1.sort(key=lambda x: x[1], reverse=True)\n",
    "    distpairs2.sort(key=lambda x: x[1], reverse=True)\n",
    "\n",
    "    chic_dict[list(row)[0]] = distpairs1[:5] + distpairs2[:15]\n",
    "\n",
    "# Choose the columns to be kept\n",
    "camb_keep_cols = ['ID','1st Choice','2nd Choice','3rd Choice','4th Choice','5th Choice']\n",
    "camb_prec_votes = collections.defaultdict(list)"
   ]
  },
  {
   "cell_type": "code",
   "execution_count": 7,
   "metadata": {},
   "outputs": [],
   "source": [
    "# Read in Cambridge Voting Data\n",
    "df_camb_vote = pd.read_excel('Cambridge City Council CVR 2017.xlsx')\n",
    "\n",
    "# Format the data\n",
    "df_camb_vote['ID'] = df_camb_vote['ID'].apply(lambda x: str(x)[2:4] + '-' + str(x)[4:6])\n",
    "df_camb_vote['ID'] = df_camb_vote['ID'].apply(lambda x: str(x).replace(\"-0\",\"-\"))\n",
    "df_camb_vote['ID'] = df_camb_vote['ID'].apply(lambda x: str(x)[1:] if str(x)[0] == '0' else str(x))\n",
    "df_camb_vote = df_camb_vote.drop(columns=[c for c in list(df_camb_vote) if c not in camb_keep_cols ])\n",
    "\n",
    "# Read in the demographic IDs\n",
    "df_camb_id = pd.read_csv('camb_demo_id_2017.csv',delimiter='\\t',header=None)\n",
    "df_camb_id = dict(zip(df_camb_id[0],df_camb_id[1]))\n",
    "\n",
    "# Reformat the Cambridge voting data with demographics\n",
    "for c in camb_keep_cols[1:]:\n",
    "    df_camb_vote[c] = df_camb_vote[c].apply(lambda e: df_camb_id[e].capitalize() if e in df_camb_id.keys() else np.nan)\n",
    "\n",
    "df_camb_vote = df_camb_vote[pd.notnull(df_camb_vote['1st Choice'])]\n",
    "\n",
    "# Record the precinct votes\n",
    "for row in df_camb_vote.itertuples():\n",
    "    camb_prec_votes[list(row)[1]].append(tuple([ str(s).lower().replace(\"middle eastern\",\"asian\") for s in list(row)[2:5]] + []))\n",
    "\n",
    "for k,v in camb_prec_votes.items():\n",
    "    camb_prec_votes[k] = collections.Counter(v)"
   ]
  },
  {
   "cell_type": "code",
   "execution_count": 8,
   "metadata": {},
   "outputs": [],
   "source": [
    "# Read in Minneapolis Voting Data\n",
    "minn_prec_votes = collections.defaultdict(list)\n",
    "df_minn_vote = pd.read_csv('2017-mayor-cvr.csv').drop(columns = ['1st Choice','2nd Choice','3rd Choice','Count'])\n",
    "\n",
    "df_minn_vote = df_minn_vote[pd.notnull(df_minn_vote['1st Choice_Race'])]\n",
    "\n",
    "# Record the precinct votes\n",
    "for row in df_minn_vote.itertuples():\n",
    "    k = list(row)[1].replace(\"MINNEAPOLIS \",'').replace(\"W-\",'W').replace(\"P-\",\"P\").replace(' ','-').replace(\"P0\",'P')\n",
    "    minn_prec_votes[k].append(tuple([str(s).lower().replace(\"middle eastern\",\"asian\") for s in list(row)[2:]]))\n",
    "\n",
    "for k,v in minn_prec_votes.items():\n",
    "    minn_prec_votes[k] = collections.Counter(v)"
   ]
  },
  {
   "cell_type": "code",
   "execution_count": 9,
   "metadata": {},
   "outputs": [],
   "source": [
    "# Remove empty votes\n",
    "chic_impute = collections.defaultdict(dict)\n",
    "\n",
    "for k,v in camb_prec_votes.items():\n",
    "    if v == []:\n",
    "        print(\"remove\")\n",
    "        camb_prec_votes.pop(k,None)"
   ]
  },
  {
   "cell_type": "code",
   "execution_count": 10,
   "metadata": {},
   "outputs": [],
   "source": [
    "# For each precinct in chicago\n",
    "# For each match precint P in that dictionary\n",
    "# Use the weight s on P times the percentage of\n",
    "# people in P voting each preference schedule\n",
    "# and sum, then normalize so that the total\n",
    "# votes is equal to VAP\n",
    "for prec in chic_dict.keys():\n",
    "    for match in chic_dict[prec]:\n",
    "        if match[0][0] == 'W':\n",
    "            for k,v in minn_prec_votes[match[0]].items():\n",
    "                if k in chic_impute[prec].keys():\n",
    "                    chic_impute[prec][k] += v * match[1] ** 1\n",
    "                else:\n",
    "                    chic_impute[prec][k] = v * match[1] ** 1\n",
    "        else:\n",
    "            if match[0] == \"3-2A\":\n",
    "                m = \"3-2\"\n",
    "            else: \n",
    "                m = match[0]\n",
    "\n",
    "            for k,v in camb_prec_votes[m].items():\n",
    "                if k in chic_impute[prec].keys():\n",
    "                    chic_impute[prec][k] += v * match[1] ** 1\n",
    "                else:\n",
    "                    chic_impute[prec][k] = v * match[1] ** 1"
   ]
  },
  {
   "cell_type": "code",
   "execution_count": 11,
   "metadata": {},
   "outputs": [],
   "source": [
    "# Read in precinct demographics\n",
    "df_chic_demo = pd.read_csv('chicago_prec_demo.csv',index_col=0).dropna()\n",
    "for k,v in chic_impute.items():\n",
    "    tot = sum(list(v.values()))\n",
    "    for k2 in v.keys():\n",
    "        v[k2] = v[k2]/tot * df_chic_demo.at[k,'VAP']"
   ]
  },
  {
   "cell_type": "code",
   "execution_count": 12,
   "metadata": {},
   "outputs": [],
   "source": [
    "%%capture\n",
    "# Results:\n",
    "chic_impute\n",
    "chic_dict"
   ]
  },
  {
   "cell_type": "code",
   "execution_count": 13,
   "metadata": {},
   "outputs": [
    {
     "name": "stdout",
     "output_type": "stream",
     "text": [
      "71\n",
      "1 Choice white: 1544285.2855284999\n",
      "1 Choice black: 459879.6702216003\n",
      "1 Choice hispanic: 0\n",
      "1 Choice asian: 93912.52588821895\n",
      "1 Choice undetermined: 2534.5183616806394\n",
      "white in top 3: 1972033.456538633\n",
      "black in top 3: 1076221.3580279176\n",
      "hispanic in top 3: 0\n",
      "asian in top 3: 268800.35078889976\n",
      "undetermined in top 3: 15347.242811505115\n"
     ]
    }
   ],
   "source": [
    "# Summarise data\n",
    "totvots = collections.defaultdict(float)\n",
    "\n",
    "for v in chic_impute.values():\n",
    "    for k2,v2 in v.items():\n",
    "        totvots[k2] += v2\n",
    "\n",
    "print(len(totvots.keys()))\n",
    "\n",
    "races = ['white','black','hispanic','asian','undetermined']\n",
    "for r in races:\n",
    "    sums = [0,0,0]\n",
    "    for k,v in totvots.items():\n",
    "        for i in range(1):\n",
    "            if k[i] == r:\n",
    "                sums[i] += v\n",
    "    for i in range(1):\n",
    "        print(\"{} Choice {}: {}\".format(i+1,r,sums[i]))\n",
    "for r in races:\n",
    "    tot = 0\n",
    "    for k,v in totvots.items():\n",
    "        if r in k:\n",
    "            tot+=v\n",
    "\n",
    "    print(\"{} in top 3: {}\".format(r,tot))"
   ]
  },
  {
   "cell_type": "code",
   "execution_count": null,
   "metadata": {},
   "outputs": [],
   "source": []
  }
 ],
 "metadata": {
  "kernelspec": {
   "display_name": "Python 3",
   "language": "python",
   "name": "python3"
  },
  "language_info": {
   "codemirror_mode": {
    "name": "ipython",
    "version": 3
   },
   "file_extension": ".py",
   "mimetype": "text/x-python",
   "name": "python",
   "nbconvert_exporter": "python",
   "pygments_lexer": "ipython3",
   "version": "3.6.5"
  }
 },
 "nbformat": 4,
 "nbformat_minor": 2
}
