{
 "cells": [
  {
   "cell_type": "markdown",
   "metadata": {},
   "source": [
    "## Precinct Matching\n",
    "\n",
    "This notebook executes matches precincts in different cities by their similarity."
   ]
  },
  {
   "cell_type": "code",
   "execution_count": 1,
   "metadata": {},
   "outputs": [],
   "source": [
    "import numpy as np\n",
    "import pandas as pd\n",
    "from scipy import spatial\n",
    "import collections\n",
    "import pickle"
   ]
  },
  {
   "cell_type": "code",
   "execution_count": 2,
   "metadata": {},
   "outputs": [],
   "source": [
    "races = ['white','black','hispanic','asian','middle eastern','undetermined']\n",
    "demo_cols = ['NH_WHITE', 'NH_BLACK', 'NH_AMIN',\t'NH_ASIAN',\t'NH_NHPI', 'NH_OTHER', 'NH_2MORE', 'HISP']"
   ]
  },
  {
   "cell_type": "code",
   "execution_count": null,
   "metadata": {},
   "outputs": [],
   "source": [
    "df_chic_demo = pd.read_csv('chicago_prec_demo.csv',index_col=0).dropna()[demo_cols]\n",
    "df_chic_demo.reindex(sorted(df_chic_demo.columns), axis=1)\n",
    "df_chic_demo = df_chic_demo[(df_chic_demo.T !=0).any()]"
   ]
  }
 ],
 "metadata": {
  "kernelspec": {
   "display_name": "Python 3",
   "language": "python",
   "name": "python3"
  },
  "language_info": {
   "codemirror_mode": {
    "name": "ipython",
    "version": 3
   },
   "file_extension": ".py",
   "mimetype": "text/x-python",
   "name": "python",
   "nbconvert_exporter": "python",
   "pygments_lexer": "ipython3",
   "version": "3.6.5"
  }
 },
 "nbformat": 4,
 "nbformat_minor": 2
}
