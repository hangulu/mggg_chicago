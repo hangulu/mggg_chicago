{
 "cells": [
  {
   "cell_type": "markdown",
   "metadata": {},
   "source": [
    "## Chicago RRPS Determination\n",
    "\n",
    "This notebook executes the workflow to derive the racially-reduced preference schedule of Chicago with the First-choice Distribution Model (FC) using frequency proportion."
   ]
  },
  {
   "cell_type": "code",
   "execution_count": 1,
   "metadata": {},
   "outputs": [],
   "source": [
    "import pandas as pd\n",
    "import matplotlib.pyplot as plt\n",
    "import sys\n",
    "from functools import partial\n",
    "import pickle\n",
    "\n",
    "import gerrychain as gc\n",
    "from gerrychain.updaters import Tally, cut_edges\n",
    "import gerrychain.tree_proposals as tp\n",
    "from gerrychain import accept\n",
    "import itertools"
   ]
  },
  {
   "cell_type": "markdown",
   "metadata": {},
   "source": [
    "#### Data Processing\n",
    "\n",
    "The necessary data are:\n",
    "- Chicago Voting History\n",
    "- RRPS of Cambridge, Oakland, and Minneapolis\n",
    "\n",
    "Those data are available in CSVs, and are converted to pandas dataframes below."
   ]
  },
  {
   "cell_type": "code",
   "execution_count": 2,
   "metadata": {},
   "outputs": [],
   "source": [
    "def strclean(df):\n",
    "    \"\"\"\n",
    "    Convert all strings in a DataFrame to lowercase, with underscores instead of spaces\n",
    "    \n",
    "    df (pandas DataFrame): the DataFrame to be converted\n",
    "    return: the modified pandas DataFrame\n",
    "    \"\"\"\n",
    "    return df.applymap(lambda x: x.lower().replace(' ', '_') if type(x) == str else x)"
   ]
  },
  {
   "cell_type": "code",
   "execution_count": 3,
   "metadata": {},
   "outputs": [],
   "source": [
    "# Import Cambridge City Council Data\n",
    "cambridge_cc2017 = strclean(pd.read_csv('rrps/cambridge_citycouncil_2017rrps.csv', skiprows=1))\n",
    "cambridge_cc2015 = strclean(pd.read_csv('rrps/cambridge_citycouncil_2015rrps.csv'))\n",
    "cambridge_cc2013 = strclean(pd.read_csv('rrps/cambridge_citycouncil_2013rrps.csv'))\n",
    "\n",
    "# Drop unnecessary columns and rename others\n",
    "# City Council 2017\n",
    "cambridge_cc2017.drop(columns=['Unnamed: 28', 'Unnamed: 29', 'Unnamed: 30', 'Unnamed: 31'], inplace=True)\n",
    "ccc2017_cols = ['id']\n",
    "ccc2017_cols.extend(['choice' + str(x) for x in range(1, 28)])\n",
    "cambridge_cc2017.columns = ccc2017_cols\n",
    "\n",
    "# City Council 2015\n",
    "cambridge_cc2015.drop(columns=['Unnamed: 25', 'Unnamed: 26', 'Unnamed: 27', 'Unnamed: 28'], inplace=True)\n",
    "ccc2015_cols = ['id', 'precinct']\n",
    "ccc2015_cols.extend(['choice' + str(x) for x in range(1, 24)])\n",
    "cambridge_cc2015.columns = ccc2015_cols\n",
    "\n",
    "# City Council 2013\n",
    "ccc2013_cols = ['id']\n",
    "ccc2013_cols.extend(['choice' + str(x) for x in range(1, 26)])\n",
    "cambridge_cc2013.columns = ccc2013_cols"
   ]
  },
  {
   "cell_type": "code",
   "execution_count": 4,
   "metadata": {},
   "outputs": [],
   "source": [
    "# Import Minneapolis Mayor Data\n",
    "minneapolis_mayor2017 = strclean(pd.read_csv('rrps/minneapolis_mayor_2017rrps.csv', skiprows=0))\n",
    "minneapolis_mayor2013 = strclean(pd.read_csv('rrps/minneapolis_mayor_2013rrps.csv', skiprows=0))\n",
    "minneapolis_mayor2013.head()\n",
    "\n",
    "# Drop unnecessary columns and rename others\n",
    "# Mayoral 2017\n",
    "minneapolis_mayor2017 = minneapolis_mayor2017.filter(['Precinct', \n",
    "                                                      '1st Choice_Race', \n",
    "                                                      '2nd Choice_Race', \n",
    "                                                      '3rd Choice_Race'])\n",
    "minneapolis_mayor2017.columns = ['precinct', 'choice1', 'choice2', 'choice3']\n",
    "\n",
    "# Mayoral 2013\n",
    "minneapolis_mayor2013 = minneapolis_mayor2013.filter(['Precinct', \n",
    "                                                      '1ST CHOICE MAYOR MINNEAPOLIS_Race', \n",
    "                                                      '2ND CHOICE MAYOR MINNEAPOLIS_Race', \n",
    "                                                      '3RD CHOICE MAYOR MINNEAPOLIS_Race'])\n",
    "minneapolis_mayor2013.columns = ['precinct', 'choice1', 'choice2', 'choice3']"
   ]
  },
  {
   "cell_type": "code",
   "execution_count": 5,
   "metadata": {},
   "outputs": [],
   "source": [
    "# Import Minneapolis Parks and Recreation Commissioner At Large Data\n",
    "minneapolis_pal2017 = strclean(pd.read_csv('rrps/minneapolis_parkatlarge_2017rrps.csv', skiprows=0))\n",
    "minneapolis_pal2013 = strclean(pd.read_csv('rrps/minneapolis_parkatlarge_2013rrps.csv', skiprows=0))\n",
    "\n",
    "# Drop unnecessary columns and rename others\n",
    "# Parks and Recreation Commissioner At Large 2017\n",
    "minneapolis_pal2017 = minneapolis_pal2017.filter(['Precinct', \n",
    "                                                  '1st Choice_Race', \n",
    "                                                  '2nd Choice_Race', \n",
    "                                                  '3rd Choice_Race'])\n",
    "minneapolis_pal2017.columns = ['precinct', 'choice1', 'choice2', 'choice3']\n",
    "\n",
    "# Parks and Recreation Commissioner At Large 2013\n",
    "minneapolis_pal2013 = minneapolis_pal2013.filter(['Precinct',\n",
    "                                                  '1ST CHOICE PARK AND RECREATION COMMISSIONER AT LARGE MINNEAPOLIS_Race',\n",
    "                                                  '2ND CHOICE PARK AND RECREATION COMMISSIONER AT LARGE MINNEAPOLIS_Race',\n",
    "                                                  '3RD CHOICE PARK AND RECREATION COMMISSIONER AT LARGE MINNEAPOLIS_Race'])\n",
    "\n",
    "minneapolis_pal2013.columns = ['precinct', 'choice1', 'choice2', 'choice3']"
   ]
  },
  {
   "cell_type": "code",
   "execution_count": 6,
   "metadata": {},
   "outputs": [],
   "source": [
    "# Import Oakland Mayor Data\n",
    "oakland_mayor2014 = strclean(pd.read_csv('rrps/oakland_mayor_2014rrps.csv', skiprows=0))\n",
    "\n",
    "# Drop unnecessary columns and rename others\n",
    "# Mayoral 2014\n",
    "oakland_mayor2014 = oakland_mayor2014.filter(['Pref_Voter_Id', \n",
    "                                              'Choice_1_Race_Id', \n",
    "                                              'Choice_2_Race_Id', \n",
    "                                              'Choice_3_Race_Id'])\n",
    "oakland_mayor2014.columns = ['pref_voter_id', 'choice1', 'choice2', 'choice3']"
   ]
  },
  {
   "cell_type": "markdown",
   "metadata": {},
   "source": [
    "#### RRPS\n",
    "\n",
    "The following function takes a pre-processed voting file for Oakland, Cambridge, or Minneapolis and returns a dictionary that maps from the races of the top three candidates on the ballot to the frequency that permuatation received in the election."
   ]
  },
  {
   "cell_type": "code",
   "execution_count": 7,
   "metadata": {},
   "outputs": [],
   "source": [
    "def rrps(df, all_choices=False):\n",
    "    \"\"\"\n",
    "    Get the RRPS of a city.\n",
    "    \n",
    "    df (pandas DataFrame): the vote breakdown of a city\n",
    "    all_choices (bool): whether all-choice permutations should be returned\n",
    "                        if False, 3-choice permutations will be returned\n",
    "    return: a dictionary with the RRPS\n",
    "    \"\"\"\n",
    "    num_choices = int(df.columns[-1][-1]) if all_choices else 3\n",
    "    results = {}\n",
    "    choices = ['choice' + str(x) for x in range(1, num_choices + 1)]\n",
    "    for name, group in df.groupby(choices):\n",
    "        abbr = ''\n",
    "        for race in name:\n",
    "            abbr += race[0].upper()\n",
    "        results[abbr] = group[df.columns[0]].count()\n",
    "    # Handle the case of 000 in Oakland\n",
    "    if '000' in results:\n",
    "        del results['000']\n",
    "    return results"
   ]
  },
  {
   "cell_type": "markdown",
   "metadata": {},
   "source": [
    "#### Chicago Vote History\n",
    "\n",
    "The data for Chicago's voting history are available in CSVs and are converted to pandas dataframes below."
   ]
  },
  {
   "cell_type": "code",
   "execution_count": 8,
   "metadata": {},
   "outputs": [],
   "source": [
    "# Import Chicago Mayoral 2015 Data\n",
    "chicago_mayor_2015 = pd.read_csv('chicago_vote_history/Chicago_citywide2015.csv', skiprows=0)"
   ]
  },
  {
   "cell_type": "code",
   "execution_count": 9,
   "metadata": {},
   "outputs": [],
   "source": [
    "# Import Chicago Mayoral 2019 Data\n",
    "chicago_mayor_2019 = pd.read_csv('chicago_vote_history/Mayoral19_precincts.csv', skiprows=0)"
   ]
  },
  {
   "cell_type": "code",
   "execution_count": 10,
   "metadata": {},
   "outputs": [],
   "source": [
    "# Reduce the 2015 Mayoral data to the candidates' racial IDs\n",
    "chicago_mayor_2015['white'] = chicago_mayor_2015['Emanuel_M15'] + chicago_mayor_2015['Fioretti_M15']\n",
    "chicago_mayor_2015['black'] = chicago_mayor_2015['Wilson_M15'] + chicago_mayor_2015['Walls_M15']\n",
    "chicago_mayor_2015['hispanic'] = chicago_mayor_2015['Garcia_M15']\n",
    "\n",
    "chicago_mayor_2015 = chicago_mayor_2015.filter(['ID', 'white', 'black', 'hispanic'])"
   ]
  },
  {
   "cell_type": "code",
   "execution_count": 11,
   "metadata": {},
   "outputs": [
    {
     "data": {
      "text/html": [
       "<div>\n",
       "<style scoped>\n",
       "    .dataframe tbody tr th:only-of-type {\n",
       "        vertical-align: middle;\n",
       "    }\n",
       "\n",
       "    .dataframe tbody tr th {\n",
       "        vertical-align: top;\n",
       "    }\n",
       "\n",
       "    .dataframe thead th {\n",
       "        text-align: right;\n",
       "    }\n",
       "</style>\n",
       "<table border=\"1\" class=\"dataframe\">\n",
       "  <thead>\n",
       "    <tr style=\"text-align: right;\">\n",
       "      <th></th>\n",
       "      <th>ID</th>\n",
       "      <th>white</th>\n",
       "      <th>black</th>\n",
       "      <th>hispanic</th>\n",
       "    </tr>\n",
       "  </thead>\n",
       "  <tbody>\n",
       "    <tr>\n",
       "      <th>0</th>\n",
       "      <td>C01001</td>\n",
       "      <td>55</td>\n",
       "      <td>209</td>\n",
       "      <td>51</td>\n",
       "    </tr>\n",
       "    <tr>\n",
       "      <th>1</th>\n",
       "      <td>C01002</td>\n",
       "      <td>51</td>\n",
       "      <td>149</td>\n",
       "      <td>42</td>\n",
       "    </tr>\n",
       "    <tr>\n",
       "      <th>2</th>\n",
       "      <td>C01003</td>\n",
       "      <td>74</td>\n",
       "      <td>185</td>\n",
       "      <td>25</td>\n",
       "    </tr>\n",
       "    <tr>\n",
       "      <th>3</th>\n",
       "      <td>C01004</td>\n",
       "      <td>95</td>\n",
       "      <td>159</td>\n",
       "      <td>39</td>\n",
       "    </tr>\n",
       "    <tr>\n",
       "      <th>4</th>\n",
       "      <td>C01005</td>\n",
       "      <td>70</td>\n",
       "      <td>175</td>\n",
       "      <td>28</td>\n",
       "    </tr>\n",
       "  </tbody>\n",
       "</table>\n",
       "</div>"
      ],
      "text/plain": [
       "       ID  white  black  hispanic\n",
       "0  C01001     55    209        51\n",
       "1  C01002     51    149        42\n",
       "2  C01003     74    185        25\n",
       "3  C01004     95    159        39\n",
       "4  C01005     70    175        28"
      ]
     },
     "execution_count": 11,
     "metadata": {},
     "output_type": "execute_result"
    }
   ],
   "source": [
    "# Reduce the 2019 Mayoral data to the candidates' racial IDs\n",
    "chicago_mayor_2019['white'] = chicago_mayor_2019['Joyce'] + chicago_mayor_2019['Daley'] + chicago_mayor_2019['Fioretti'] + chicago_mayor_2019['Kozlar'] + chicago_mayor_2019['McCarth'] + chicago_mayor_2019['Vallas']\n",
    "chicago_mayor_2019['black'] = chicago_mayor_2019['Enyia'] + chicago_mayor_2019['Ford'] + chicago_mayor_2019['Lightft'] + chicago_mayor_2019['Preckw'] + chicago_mayor_2019['Wilson'] + chicago_mayor_2019['Sal_Grif']\n",
    "chicago_mayor_2019['hispanic'] = chicago_mayor_2019['Chico'] + chicago_mayor_2019['Mendoza']\n",
    "\n",
    "chicago_mayor_2019 = chicago_mayor_2019.filter(['JOINID', 'white', 'black', 'hispanic'])\n",
    "chicago_mayor_2019.columns = ['ID', 'white', 'black', 'hispanic']"
   ]
  },
  {
   "cell_type": "code",
   "execution_count": 12,
   "metadata": {},
   "outputs": [],
   "source": [
    "# Get the first-choice distribution from the RRPS\n",
    "def first_choice(rrps_data):\n",
    "    first_choice_freq = {'A': 0, 'B': 0, 'H': 0, 'M': 0, 'U': 0, 'W': 0}\n",
    "    first_choice_dist = {}\n",
    "    for perm, freq in rrps_data.items():\n",
    "        first_choice_freq[perm[0]] += freq\n",
    "    for perm, freq in rrps_data.items():\n",
    "        first_choice_dist[perm] = freq / first_choice_freq[perm[0]]\n",
    "    return first_choice_dist"
   ]
  },
  {
   "cell_type": "code",
   "execution_count": 13,
   "metadata": {},
   "outputs": [],
   "source": [
    "# Run the FCFP distribution model\n",
    "# Initialize the data structures\n",
    "def fcfp(chicago_data, other_city):\n",
    "    \"\"\"\n",
    "    Return the first-choice distribution (frequency proportion method)\n",
    "    of Chicago based on another city's RRPS data.\n",
    "    \n",
    "    chicago_data (pandas DataFrame): Chicago vote history\n",
    "    other_city (pandas DataFrame): raw RRPS data\n",
    "    \n",
    "    return: a pandas DataFrame with the RRPS of Chicago\n",
    "    \"\"\"\n",
    "    # Initialize the cartesian product for columns\n",
    "    cartesian_product = list(itertools.product(['W', 'B', 'H'], repeat=3))\n",
    "    columns = []\n",
    "    # Convert the product to the working format\n",
    "    for prod in cartesian_product:\n",
    "        abbr = ''\n",
    "        for ele in prod:\n",
    "            abbr += ele\n",
    "        columns.append(abbr)\n",
    "\n",
    "    # Extract the first-choice distribution model from the data\n",
    "    fc_dist = first_choice(rrps(other_city))\n",
    "    \n",
    "    # Initialize the final distribution dictionary\n",
    "    final_dist = {}\n",
    "    \n",
    "    # Iterate through every precinct\n",
    "    for precinct in chicago_data.itertuples():\n",
    "        # Store the racial data\n",
    "        num_white = getattr(precinct, 'white')\n",
    "        num_black = getattr(precinct, 'black')\n",
    "        num_hispanic = getattr(precinct, 'hispanic')\n",
    "        precinct = getattr(precinct, 'ID')\n",
    "        final_dist[precinct] = []\n",
    "\n",
    "        # For every voting permutation, find the distribution of votes\n",
    "        for perm in columns:\n",
    "            result = 0\n",
    "            if perm[0] == 'W':\n",
    "                if perm in fc_dist:\n",
    "                    result = fc_dist[perm] * num_white\n",
    "            elif perm[0] == 'B':\n",
    "                if perm in fc_dist:\n",
    "                    result = fc_dist[perm] * num_black\n",
    "            elif perm[0] == 'H':\n",
    "                if perm in fc_dist:\n",
    "                    result = fc_dist[perm] * num_hispanic\n",
    "            final_dist[precinct].append(result)\n",
    "    final_df = pd.DataFrame.from_dict(final_dist, orient='index')\n",
    "    final_df.columns = columns\n",
    "    return final_df"
   ]
  },
  {
   "cell_type": "code",
   "execution_count": 14,
   "metadata": {},
   "outputs": [],
   "source": [
    "# Run the model on a few combinations of cities/races\n",
    "# All the runs below are for Chicago Mayoral 2015 data\n",
    "\n",
    "# Oakland Mayoral 2014\n",
    "oakland_m14_to_chi = fcfp(chicago_mayor_2015, oakland_mayor2014)\n",
    "\n",
    "# Minneapolis Mayoral 2017 and 2013\n",
    "minneapolis_m17_to_chi = fcfp(chicago_mayor_2015, minneapolis_mayor2017)\n",
    "minneapolis_m13_to_chi = fcfp(chicago_mayor_2015, minneapolis_mayor2013)\n",
    "\n",
    "# Minneapolis Parks and Recreation Commissioner at Large 2017 and 2013\n",
    "minneapolis_pal17_to_chi = fcfp(chicago_mayor_2015, minneapolis_pal2017)\n",
    "minneapolis_pal13_to_chi = fcfp(chicago_mayor_2015, minneapolis_pal2013)\n",
    "\n",
    "# Cambridge City Council 2017, 2015, and 2013\n",
    "# cambridge_cc17_to_chi = fcfp(chicago_mayor_2015, cambridge_cc2017)\n",
    "cambridge_cc15_to_chi = fcfp(chicago_mayor_2015, cambridge_cc2015)\n",
    "cambridge_cc13_to_chi = fcfp(chicago_mayor_2015, cambridge_cc2013)"
   ]
  },
  {
   "cell_type": "code",
   "execution_count": 15,
   "metadata": {},
   "outputs": [],
   "source": [
    "# Save the data to CSVs\n",
    "oakland_m14_to_chi.to_csv('rrps_results/m15/oakland_m14.csv')\n",
    "minneapolis_m17_to_chi.to_csv('rrps_results/m15/minneapolis_m17.csv')\n",
    "minneapolis_m13_to_chi.to_csv('rrps_results/m15/minneapolis_m13.csv')\n",
    "minneapolis_pal17_to_chi.to_csv('rrps_results/m15/minneapolis_pal17.csv')\n",
    "minneapolis_pal13_to_chi.to_csv('rrps_results/m15/minneapolis_pal17.csv')\n",
    "cambridge_cc15_to_chi.to_csv('rrps_results/m15/cambridge_cc15.csv')\n",
    "cambridge_cc13_to_chi.to_csv('rrps_results/m15/cambridge_cc13.csv')"
   ]
  },
  {
   "cell_type": "code",
   "execution_count": 16,
   "metadata": {},
   "outputs": [],
   "source": [
    "# Run the model on a few combinations of cities/races\n",
    "# All the runs below are for Chicago Mayoral 2019 data\n",
    "\n",
    "# Oakland Mayoral 2014\n",
    "oakland_m14_to_chi = fcfp(chicago_mayor_2019, oakland_mayor2014)\n",
    "\n",
    "# Minneapolis Mayoral 2017 and 2013\n",
    "minneapolis_m17_to_chi = fcfp(chicago_mayor_2019, minneapolis_mayor2017)\n",
    "minneapolis_m13_to_chi = fcfp(chicago_mayor_2019, minneapolis_mayor2013)\n",
    "\n",
    "# Minneapolis Parks and Recreation Commissioner at Large 2017 and 2013\n",
    "minneapolis_pal17_to_chi = fcfp(chicago_mayor_2019, minneapolis_pal2017)\n",
    "minneapolis_pal13_to_chi = fcfp(chicago_mayor_2019, minneapolis_pal2013)\n",
    "\n",
    "# Cambridge City Council 2017, 2015, and 2013\n",
    "# cambridge_cc17_to_chi = fcfp(chicago_mayor_2015, cambridge_cc2017)\n",
    "cambridge_cc15_to_chi = fcfp(chicago_mayor_2019, cambridge_cc2015)\n",
    "cambridge_cc13_to_chi = fcfp(chicago_mayor_2019, cambridge_cc2013)"
   ]
  },
  {
   "cell_type": "code",
   "execution_count": 17,
   "metadata": {},
   "outputs": [],
   "source": [
    "oakland_m14_to_chi.to_csv('rrps_results/m19/oakland_m14.csv')\n",
    "minneapolis_m17_to_chi.to_csv('rrps_results/m19/minneapolis_m17.csv')\n",
    "minneapolis_m13_to_chi.to_csv('rrps_results/m19/minneapolis_m13.csv')\n",
    "minneapolis_pal17_to_chi.to_csv('rrps_results/m19/minneapolis_pal17.csv')\n",
    "minneapolis_pal13_to_chi.to_csv('rrps_results/m19/minneapolis_pal17.csv')\n",
    "cambridge_cc15_to_chi.to_csv('rrps_results/m19/cambridge_cc15.csv')\n",
    "cambridge_cc13_to_chi.to_csv('rrps_results/m19/cambridge_cc13.csv')"
   ]
  }
 ],
 "metadata": {
  "kernelspec": {
   "display_name": "Python 3",
   "language": "python",
   "name": "python3"
  },
  "language_info": {
   "codemirror_mode": {
    "name": "ipython",
    "version": 3
   },
   "file_extension": ".py",
   "mimetype": "text/x-python",
   "name": "python",
   "nbconvert_exporter": "python",
   "pygments_lexer": "ipython3",
   "version": "3.6.5"
  }
 },
 "nbformat": 4,
 "nbformat_minor": 2
}
