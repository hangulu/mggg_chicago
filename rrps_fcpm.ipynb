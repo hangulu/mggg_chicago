{
 "cells": [
  {
   "cell_type": "markdown",
   "metadata": {},
   "source": [
    "## Chicago RRPS Determination\n",
    "#### First-Choice, Matching Precincts by Voting Patterns\n",
    "\n",
    "This notebook matches precincts in different cities by the similarity of their voting patterns (their first-choice vote counts for the racial groups available). The end result is a racially-reduced preference schedule of Chicago."
   ]
  },
  {
   "cell_type": "code",
   "execution_count": 1,
   "metadata": {},
   "outputs": [],
   "source": [
    "import pandas as pd\n",
    "import numpy as np\n",
    "import matplotlib.pyplot as plt\n",
    "import sys\n",
    "from functools import partial\n",
    "import pickle\n",
    "from scipy import spatial\n",
    "import itertools\n",
    "import collections"
   ]
  },
  {
   "cell_type": "markdown",
   "metadata": {},
   "source": [
    "#### Data Processing\n",
    "\n",
    "The necessary data are:\n",
    "- Chicago Voting History\n",
    "- RRPS of Cambridge, Oakland, and Minneapolis\n",
    "\n",
    "Those data are available in CSVs, and are converted to pandas dataframes below."
   ]
  },
  {
   "cell_type": "code",
   "execution_count": 2,
   "metadata": {},
   "outputs": [],
   "source": [
    "def strclean(df):\n",
    "    \"\"\"\n",
    "    Convert all strings in a DataFrame to lowercase, with underscores instead of spaces\n",
    "    \n",
    "    df (pandas DataFrame): the DataFrame to be converted\n",
    "    return: the modified pandas DataFrame\n",
    "    \"\"\"\n",
    "    return df.applymap(lambda x: x.lower().replace(' ', '_') if type(x) == str else x)"
   ]
  },
  {
   "cell_type": "code",
   "execution_count": 3,
   "metadata": {},
   "outputs": [],
   "source": [
    "# Import Cambridge City Council Data\n",
    "cambridge_cc2017 = strclean(pd.read_csv('rrps/cambridge_citycouncil_2017rrps.csv', skiprows=1))\n",
    "cambridge_cc2015 = strclean(pd.read_csv('rrps/cambridge_citycouncil_2015rrps.csv'))\n",
    "cambridge_cc2013 = strclean(pd.read_csv('rrps/cambridge_citycouncil_2013rrps.csv'))\n",
    "\n",
    "# Drop unnecessary columns and rename others\n",
    "# City Council 2017\n",
    "cambridge_cc2017.drop(columns=['Unnamed: 28', 'Unnamed: 29', 'Unnamed: 30', 'Unnamed: 31'], inplace=True)\n",
    "ccc2017_cols = ['id']\n",
    "ccc2017_cols.extend(['choice' + str(x) for x in range(1, 28)])\n",
    "cambridge_cc2017.columns = ccc2017_cols\n",
    "\n",
    "# City Council 2015\n",
    "cambridge_cc2015.drop(columns=['Unnamed: 25', 'Unnamed: 26', 'Unnamed: 27', 'Unnamed: 28'], inplace=True)\n",
    "ccc2015_cols = ['id', 'precinct']\n",
    "ccc2015_cols.extend(['choice' + str(x) for x in range(1, 24)])\n",
    "cambridge_cc2015.columns = ccc2015_cols\n",
    "\n",
    "# City Council 2013\n",
    "ccc2013_cols = ['id']\n",
    "ccc2013_cols.extend(['choice' + str(x) for x in range(1, 26)])\n",
    "cambridge_cc2013.columns = ccc2013_cols"
   ]
  },
  {
   "cell_type": "code",
   "execution_count": 4,
   "metadata": {},
   "outputs": [],
   "source": [
    "# Import Minneapolis Mayor Data\n",
    "minneapolis_mayor2017 = strclean(pd.read_csv('rrps/minneapolis_mayor_2017rrps.csv', skiprows=0))\n",
    "minneapolis_mayor2013 = strclean(pd.read_csv('rrps/minneapolis_mayor_2013rrps.csv', skiprows=0))\n",
    "minneapolis_mayor2013.head()\n",
    "\n",
    "# Drop unnecessary columns and rename others\n",
    "# Mayoral 2017\n",
    "minneapolis_mayor2017 = minneapolis_mayor2017.filter(['Precinct', \n",
    "                                                      '1st Choice_Race', \n",
    "                                                      '2nd Choice_Race', \n",
    "                                                      '3rd Choice_Race'])\n",
    "minneapolis_mayor2017.columns = ['precinct', 'choice1', 'choice2', 'choice3']\n",
    "\n",
    "# Mayoral 2013\n",
    "minneapolis_mayor2013 = minneapolis_mayor2013.filter(['Precinct', \n",
    "                                                      '1ST CHOICE MAYOR MINNEAPOLIS_Race', \n",
    "                                                      '2ND CHOICE MAYOR MINNEAPOLIS_Race', \n",
    "                                                      '3RD CHOICE MAYOR MINNEAPOLIS_Race'])\n",
    "minneapolis_mayor2013.columns = ['precinct', 'choice1', 'choice2', 'choice3']"
   ]
  },
  {
   "cell_type": "code",
   "execution_count": 5,
   "metadata": {},
   "outputs": [],
   "source": [
    "# Import Minneapolis Parks and Recreation Commissioner At Large Data\n",
    "minneapolis_pal2017 = strclean(pd.read_csv('rrps/minneapolis_parkatlarge_2017rrps.csv', skiprows=0))\n",
    "minneapolis_pal2013 = strclean(pd.read_csv('rrps/minneapolis_parkatlarge_2013rrps.csv', skiprows=0))\n",
    "\n",
    "# Drop unnecessary columns and rename others\n",
    "# Parks and Recreation Commissioner At Large 2017\n",
    "minneapolis_pal2017 = minneapolis_pal2017.filter(['Precinct', \n",
    "                                                  '1st Choice_Race', \n",
    "                                                  '2nd Choice_Race', \n",
    "                                                  '3rd Choice_Race'])\n",
    "minneapolis_pal2017.columns = ['precinct', 'choice1', 'choice2', 'choice3']\n",
    "\n",
    "# Parks and Recreation Commissioner At Large 2013\n",
    "minneapolis_pal2013 = minneapolis_pal2013.filter(['Precinct',\n",
    "                                                  '1ST CHOICE PARK AND RECREATION COMMISSIONER AT LARGE MINNEAPOLIS_Race',\n",
    "                                                  '2ND CHOICE PARK AND RECREATION COMMISSIONER AT LARGE MINNEAPOLIS_Race',\n",
    "                                                  '3RD CHOICE PARK AND RECREATION COMMISSIONER AT LARGE MINNEAPOLIS_Race'])\n",
    "\n",
    "minneapolis_pal2013.columns = ['precinct', 'choice1', 'choice2', 'choice3']"
   ]
  },
  {
   "cell_type": "markdown",
   "metadata": {},
   "source": [
    "#### Chicago Vote History\n",
    "\n",
    "The data for Chicago's voting history are available in CSVs and are converted to pandas dataframes below."
   ]
  },
  {
   "cell_type": "code",
   "execution_count": 7,
   "metadata": {},
   "outputs": [],
   "source": [
    "# Import Chicago Mayoral 2015 Data\n",
    "chicago_mayor_2015 = pd.read_csv('chicago_vote_history/Chicago_citywide2015.csv', skiprows=0)"
   ]
  },
  {
   "cell_type": "code",
   "execution_count": 8,
   "metadata": {},
   "outputs": [],
   "source": [
    "# Import Chicago Mayoral 2019 Data\n",
    "chicago_mayor_2019 = pd.read_csv('chicago_vote_history/Mayoral19_precincts.csv', skiprows=0)"
   ]
  },
  {
   "cell_type": "code",
   "execution_count": 9,
   "metadata": {},
   "outputs": [],
   "source": [
    "# Reduce the 2015 Mayoral data to the candidates' racial IDs\n",
    "chicago_mayor_2015['white'] = chicago_mayor_2015['Emanuel_M15'] + chicago_mayor_2015['Fioretti_M15']\n",
    "chicago_mayor_2015['black'] = chicago_mayor_2015['Wilson_M15'] + chicago_mayor_2015['Walls_M15']\n",
    "chicago_mayor_2015['hispanic'] = chicago_mayor_2015['Garcia_M15']\n",
    "\n",
    "chicago_mayor_2015 = chicago_mayor_2015.filter(['ID', 'white', 'black', 'hispanic'])"
   ]
  },
  {
   "cell_type": "code",
   "execution_count": 10,
   "metadata": {},
   "outputs": [],
   "source": [
    "# Reduce the 2019 Mayoral data to the candidates' racial IDs\n",
    "chicago_mayor_2019['white'] = chicago_mayor_2019['Joyce'] + chicago_mayor_2019['Daley'] + chicago_mayor_2019['Fioretti'] + chicago_mayor_2019['Kozlar'] + chicago_mayor_2019['McCarth'] + chicago_mayor_2019['Vallas']\n",
    "chicago_mayor_2019['black'] = chicago_mayor_2019['Enyia'] + chicago_mayor_2019['Ford'] + chicago_mayor_2019['Lightft'] + chicago_mayor_2019['Preckw'] + chicago_mayor_2019['Wilson'] + chicago_mayor_2019['Sal_Grif']\n",
    "chicago_mayor_2019['hispanic'] = chicago_mayor_2019['Chico'] + chicago_mayor_2019['Mendoza']\n",
    "\n",
    "chicago_mayor_2019 = chicago_mayor_2019.filter(['JOINID', 'white', 'black', 'hispanic'])\n",
    "chicago_mayor_2019.columns = ['precinct', 'white', 'black', 'hispanic']"
   ]
  },
  {
   "cell_type": "markdown",
   "metadata": {},
   "source": [
    "### Data Transformation Functions\n",
    "\n",
    "The following three functions transform the data into a format amenable to the model.\n",
    "\n",
    "- precinct_counter: counts the number of first-choice candidates by race in each city\n",
    "- similarity: pair a precinct in Chicago with similar (voting-wise) precincts in Cambridge and Minneapolis\n",
    "- permutation_counter: count the choice permutations of the city voting record"
   ]
  },
  {
   "cell_type": "code",
   "execution_count": 6,
   "metadata": {},
   "outputs": [],
   "source": [
    "def precinct_counter(city_data, city):\n",
    "    \"\"\"\n",
    "    Calculate the number of first choice candidates by race in each\n",
    "    precinct of a given city.\n",
    "    \n",
    "    \n",
    "    city_data (pandas DataFrame): the city's voting data\n",
    "    city (str): the abbreviated form of the city name\n",
    "                Camb = Cambridge, Minn = Minneapolis, Chic = Chicago\n",
    "    return: a pandas DataFrame with the number of first choice\n",
    "            candidates by race\n",
    "    \"\"\"\n",
    "    id_var = city_data.columns[0]\n",
    "    df = city_data.copy(deep=True)\n",
    "    \n",
    "    # Create a precinct column\n",
    "    if city == \"Cam\":\n",
    "        df['precinct'] = df[id_var].str[3:6] + df[id_var].str[-1]\n",
    "    elif city == \"Minn\":\n",
    "        df['precinct'] = df[id_var].str[12:]\n",
    "    elif city == \"Chic\":\n",
    "        df.columns[0] = 'precinct'\n",
    "    \n",
    "    \n",
    "    white = df.groupby('precinct')['choice1'].apply(lambda x: x[x == 'white'].count())\n",
    "    black = df.groupby('precinct')['choice1'].apply(lambda x: x[x == 'black'].count())\n",
    "    hispanic = df.groupby('precinct')['choice1'].apply(lambda x: x[x == 'hispanic'].count())\n",
    "\n",
    "    agg_df = pd.concat([white, black, hispanic], axis=1)\n",
    "    agg_df.columns = ['white', 'black', 'hispanic']\n",
    "    return agg_df.reset_index()"
   ]
  },
  {
   "cell_type": "code",
   "execution_count": 11,
   "metadata": {},
   "outputs": [],
   "source": [
    "def similarity(chicago_data, camb_data, minn_data):\n",
    "    \"\"\"\n",
    "    Pair a precinct in Chicago with similar (voting-wise) precincts\n",
    "    in Cambridge and Minneapolis.\n",
    "    \n",
    "    chicago_data (pandas DataFrame): the voting data for Chicago\n",
    "    camb_data (pandas DataFrame): the voting data for Cambridge\n",
    "    minn_data (pandas DataFrame): the voting data for Minneapolis\n",
    "    return: a dictionary mapping Chicago precincts to similar \n",
    "            precincts in Cambridge and Minneapolis\n",
    "    \"\"\"\n",
    "    # Initialize a dictionary\n",
    "    # keys: Chicago precincts\n",
    "    # values: (P, s)\n",
    "    # P is a precinct in another city\n",
    "    # s is the cosine similarity in demographic space\n",
    "    similarity_dict = {}\n",
    "    \n",
    "    # Extract the precinct ID\n",
    "    c_prec_id = camb_data.columns[0]\n",
    "    m_prec_id = minn_data.columns[0]\n",
    "    \n",
    "    # Count precinct first-choice votes\n",
    "    cambridge = precinct_counter(camb_data, \"Cam\")\n",
    "    minneapolis = precinct_counter(minn_data, \"Minn\")\n",
    "\n",
    "    for row in chicago_data.itertuples():\n",
    "        cam_distpairs = []\n",
    "        minn_distpairs = []\n",
    "\n",
    "        for r2 in cambridge.itertuples():\n",
    "            cam_distpairs.append((list(r2)[1],  1 - spatial.distance.cosine(list(row)[2:], list(r2)[2:])))\n",
    "\n",
    "        for r2 in minneapolis.itertuples():\n",
    "            minn_distpairs.append((list(r2)[1],  1 - spatial.distance.cosine(list(row)[2:], list(r2)[2:])))\n",
    "\n",
    "        # Grab the 5 most similar in Cambridge and the 15 most similar in Minneapolis\n",
    "        cam_distpairs.sort(key=lambda x: x[1], reverse=True)\n",
    "        minn_distpairs.sort(key=lambda x: x[1], reverse=True)\n",
    "\n",
    "        similarity_dict[list(row)[1]] = cam_distpairs[:5] + minn_distpairs[:15]\n",
    "    \n",
    "    return similarity_dict"
   ]
  },
  {
   "cell_type": "code",
   "execution_count": 12,
   "metadata": {},
   "outputs": [],
   "source": [
    "def permutation_counter(city_data, city):\n",
    "    \"\"\"\n",
    "    Count the choice permutations of the city voting record.\n",
    "    \n",
    "    city_data (pandas DataFrame): the voting data for the city\n",
    "    city (str): the abbreviated form of the city name\n",
    "                Camb = Cambridge, Minn = Minneapolis, Chic = Chicago\n",
    "    return: a Counter dictionary for every permutation in \n",
    "            every precinct\n",
    "    \"\"\"\n",
    "    # Extract the precinct ID\n",
    "    id_var = city_data.columns[0]\n",
    "    \n",
    "    df = city_data.copy(deep=True)\n",
    "    results = collections.defaultdict(list)\n",
    "    \n",
    "    # Create a precinct column\n",
    "    if city == \"Cam\":\n",
    "        df['precinct'] = df[id_var].str[3:6] + df[id_var].str[-1]\n",
    "        if id_var != 'precinct':\n",
    "            df.drop(columns=[id_var], inplace=True)\n",
    "    elif city == \"Minn\":\n",
    "        df['precinct'] = df[id_var].str[12:]\n",
    "        if id_var != 'precinct':\n",
    "            df.drop(columns=[id_var], inplace=True)\n",
    "    elif city == \"Chic\":\n",
    "        df.columns[0] = 'precinct'\n",
    "        if id_var != 'precinct':\n",
    "            df.drop(columns=[id_var], inplace=True)\n",
    "    \n",
    "    # Record the permutations\n",
    "    for row in df.itertuples():\n",
    "        results[getattr(row, 'precinct')].append(tuple([s for s in list(row)[2:5]]))\n",
    "    \n",
    "    # Count occurrences\n",
    "    for k,v in results.items():\n",
    "        results[k] = collections.Counter(v)\n",
    "    \n",
    "    # Remove empty votes\n",
    "    # Think about NaNs\n",
    "    for k, v in results.items():\n",
    "        if v == []:\n",
    "            print(\"remove\")\n",
    "            results.pop(k, None)\n",
    "        \n",
    "    return results"
   ]
  },
  {
   "cell_type": "markdown",
   "metadata": {},
   "source": [
    "### The Model\n",
    "\n",
    "The model below is the first-choice distribtuion model with precinct matching by first-choice voting patterns."
   ]
  },
  {
   "cell_type": "code",
   "execution_count": 13,
   "metadata": {},
   "outputs": [],
   "source": [
    "def fcpm(chicago_data, camb_data, minn_data):\n",
    "    \"\"\"\n",
    "    Return the first-choice distribution (precinct matching method)\n",
    "    of Chicago based on Cambridge and Minneapolis data.\n",
    "    \n",
    "    chicago_data (pandas DataFrame): Chicago vote history\n",
    "    camb_data (pandas DataFrame): the voting data for Cambridge\n",
    "    minn_data (pandas DataFrame): the voting data for Minneapolis\n",
    "    \n",
    "    return: a dictionary of Chicago voting, in permutation counts\n",
    "    \"\"\"\n",
    "    chic_impute = collections.defaultdict(dict)\n",
    "    \n",
    "    # Format the data\n",
    "    chic_dict = similarity(chicago_data, camb_data, minn_data)\n",
    "    minn_prec_votes = permutation_counter(minn_data, \"Minn\")\n",
    "    camb_prec_votes = permutation_counter(camb_data, \"Cam\")\n",
    "    \n",
    "    # For each precinct in chicago\n",
    "    for prec in chic_dict.keys():\n",
    "        # For each match precint P in that dictionary\n",
    "        for match in chic_dict[prec]:\n",
    "            # Use the weight s on P times the percentage of\n",
    "            # people in P voting each preference schedule\n",
    "            # and sum, then normalize so that the total\n",
    "            # votes is equal to VAP\n",
    "            \n",
    "            # Separate Minneapolis from Cambridge\n",
    "            # Minneapolis precincts start with 'w'\n",
    "            if match[0][0] == 'w':\n",
    "                for k, v in minn_prec_votes[match[0]].items():\n",
    "                    if k in chic_impute[prec].keys():\n",
    "                        chic_impute[prec][k] += v * match[1] ** 1\n",
    "                    else:\n",
    "                        chic_impute[prec][k] = v * match[1] ** 1\n",
    "            else:\n",
    "                for k, v in camb_prec_votes[match[0]].items():\n",
    "                    if k in chic_impute[prec].keys():\n",
    "                        chic_impute[prec][k] += v * match[1] ** 1\n",
    "                    else:\n",
    "                        chic_impute[prec][k] = v * match[1] ** 1\n",
    "    \n",
    "    # Normalize the data by the voting age population\n",
    "    df_chic_demo = pd.read_csv('match_data/chicago_prec_demo.csv',index_col=0).dropna()\n",
    "    \n",
    "    for k, v in chic_impute.items():\n",
    "        tot = sum(list(v.values()))\n",
    "        for k2 in v.keys():\n",
    "            index = int(k[1:])\n",
    "            vap = df_chic_demo.loc[index]['VAP']\n",
    "            v[k2] = v[k2] / tot * vap\n",
    "        \n",
    "    return chic_impute"
   ]
  },
  {
   "cell_type": "code",
   "execution_count": 14,
   "metadata": {},
   "outputs": [
    {
     "name": "stderr",
     "output_type": "stream",
     "text": [
      "/Users/hakeemangulu/anaconda3/lib/python3.6/site-packages/scipy/spatial/distance.py:698: RuntimeWarning: invalid value encountered in double_scalars\n",
      "  dist = 1.0 - uv / np.sqrt(uu * vv)\n"
     ]
    }
   ],
   "source": [
    "# Run the model\n",
    "chic_results = vrfp(chicago_mayor_2019, cambridge_cc2017, minneapolis_mayor2017)"
   ]
  },
  {
   "cell_type": "markdown",
   "metadata": {},
   "source": [
    "### Data Summarization and Analysis"
   ]
  },
  {
   "cell_type": "code",
   "execution_count": 16,
   "metadata": {},
   "outputs": [
    {
     "name": "stdout",
     "output_type": "stream",
     "text": [
      "1st Choice white: 1208313.4495322995\n",
      "1st Choice black: 617478.1171670462\n",
      "1st Choice hispanic: 0\n",
      "1st Choice asian: 144211.9349578325\n",
      "1st Choice undetermined: 2430.6789432948854\n",
      "white in top 3: 1782126.139626586\n",
      "black in top 3: 1187598.3463537283\n",
      "hispanic in top 3: 0\n",
      "asian in top 3: 382147.1388145804\n",
      "undetermined in top 3: 14049.998020998308\n"
     ]
    }
   ],
   "source": [
    "# Summarise the data\n",
    "totvots = collections.defaultdict(float)\n",
    "\n",
    "# Gather the total votes\n",
    "for v in chic_results.values():\n",
    "    for k2, v2 in v.items():\n",
    "        totvots[k2] = np.nansum([totvots[k2], v2])\n",
    "\n",
    "races = ['white', 'black', 'hispanic', 'asian', 'undetermined']\n",
    "\n",
    "# Go through each race and count the votes\n",
    "for r in races:\n",
    "    total = 0\n",
    "    for k, v in totvots.items():\n",
    "        if k[0] == r:\n",
    "            total = np.nansum([total, v])\n",
    "    print(\"1st Choice {}: {}\".format(r, total))\n",
    "        \n",
    "for r in races:\n",
    "    total = 0\n",
    "    for k, v in totvots.items():\n",
    "        if r in k:\n",
    "            total = np.nansum([total, v])\n",
    "    print(\"{} in top 3: {}\".format(r, total))"
   ]
  },
  {
   "cell_type": "code",
   "execution_count": 76,
   "metadata": {},
   "outputs": [],
   "source": [
    "# Convert the results to a DataFrame\n",
    "df = pd.DataFrame.from_dict(chic_results, orient='index')\n",
    "old_cols = df.columns\n",
    "new_cols = []\n",
    "for col_name in old_cols:\n",
    "    abbrev = ''\n",
    "    for race in col_name:\n",
    "        if type(race) == str:\n",
    "            abbrev += race[0]\n",
    "        else:\n",
    "            abbrev += 'U' \n",
    "    new_cols.append(abbrev.upper())\n",
    "df.columns = new_cols\n",
    "\n",
    "# Fill NaNs and combine duplicated columns\n",
    "df = df.fillna(0)\n",
    "df = df.groupby(df.columns, axis=1).sum()\n",
    "\n",
    "# Sort the columns\n",
    "df = df.reindex(sorted(df.columns), axis=1)"
   ]
  },
  {
   "cell_type": "code",
   "execution_count": 77,
   "metadata": {},
   "outputs": [],
   "source": [
    "# Save the results to a CSV\n",
    "df.to_csv('rrps_results/fcpm/minn_camb_2017.csv')"
   ]
  },
  {
   "cell_type": "markdown",
   "metadata": {},
   "source": [
    "### Brief Comparison with Precinct Matching by Demographic\n",
    "\n",
    "The following figures compare the first-choice precinct matching (FCPM) model with the voter-race precinct matching (VRPM) model."
   ]
  },
  {
   "cell_type": "code",
   "execution_count": 25,
   "metadata": {},
   "outputs": [],
   "source": [
    "first_choice_votes = [1208313.4495322995, 617478.1171670462, 0, 144211.9349578325, 144211.9349578325]\n",
    "first_choice_demo = [1544285.2855284999, 459879.6702216003, 0, 93912.52588821895, 93912.52588821895]\n",
    "\n",
    "three_choice_votes = [1782126.139626586, 1187598.3463537283, 0, 382147.1388145804, 14049.998020998308]\n",
    "three_choice_demo = [1972033.456538633, 1076221.3580279176, 0, 268800.35078889976, 15347.242811505115]"
   ]
  },
  {
   "cell_type": "code",
   "execution_count": 19,
   "metadata": {},
   "outputs": [
    {
     "data": {
      "image/png": "[encoded data removed]",
      "text/plain": [
       "<Figure size 432x288 with 1 Axes>"
      ]
     },
     "metadata": {},
     "output_type": "display_data"
    }
   ],
   "source": [
    "n_groups = 5\n",
    " \n",
    "fig, ax = plt.subplots()\n",
    "index = np.arange(n_groups)\n",
    "bar_width = 0.35\n",
    "opacity = 0.8\n",
    " \n",
    "rects1 = plt.bar(index, first_choice_votes, bar_width,\n",
    "alpha=opacity,\n",
    "color='b',\n",
    "label='Hakeem')\n",
    " \n",
    "rects2 = plt.bar(index + bar_width, first_choice_demo, bar_width,\n",
    "alpha=opacity,\n",
    "color='g',\n",
    "label='Zach')\n",
    " \n",
    "plt.xlabel('Matching Method')\n",
    "plt.ylabel('First-Choice Votes')\n",
    "plt.title('Precinct-Matching Comparison')\n",
    "plt.xticks(index + bar_width, ('White', 'Black', 'Hispanic', 'Asian', 'Und'))\n",
    "plt.legend()\n",
    " \n",
    "plt.tight_layout()\n",
    "plt.show()"
   ]
  },
  {
   "cell_type": "code",
   "execution_count": 29,
   "metadata": {},
   "outputs": [
    {
     "data": {
      "text/plain": [
       "defaultdict(float,\n",
       "            {'white': 0.7824418589333247,\n",
       "             'black': 1.3426949638141312,\n",
       "             'asian': 1.5355985114220367,\n",
       "             'undetermined': 1.5355985114220367})"
      ]
     },
     "execution_count": 29,
     "metadata": {},
     "output_type": "execute_result"
    }
   ],
   "source": [
    "races = ['White', 'Black', 'Asian', 'Undetermined']\n",
    "pct_diff = collections.defaultdict(float)\n",
    "\n",
    "for i in range(len(first_choice_votes)):\n",
    "    if first_choice_votes[i] == 0 or first_choice_demo[i] == 0:\n",
    "        continue\n",
    "    pct_diff[races[i]] = (first_choice_votes[i] / first_choice_demo[i])"
   ]
  },
  {
   "cell_type": "code",
   "execution_count": 31,
   "metadata": {},
   "outputs": [
    {
     "data": {
      "text/plain": [
       "[0.7824418589333247,\n",
       " 1.3426949638141312,\n",
       " 1.5355985114220367,\n",
       " 1.5355985114220367]"
      ]
     },
     "execution_count": 31,
     "metadata": {},
     "output_type": "execute_result"
    }
   ],
   "source": [
    "[v for k, v in pct_diff.items()]"
   ]
  },
  {
   "cell_type": "code",
   "execution_count": 34,
   "metadata": {},
   "outputs": [
    {
     "data": {
      "image/png": "[encoded data removed]",
      "text/plain": [
       "<Figure size 432x288 with 1 Axes>"
      ]
     },
     "metadata": {},
     "output_type": "display_data"
    }
   ],
   "source": [
    "races = ['White', 'Black', 'Asian', 'Undetermined']\n",
    "list_rep = [v for k, v in pct_diff.items()]\n",
    "\n",
    "y_pos = np.arange(len(races))\n",
    "x = list_rep\n",
    " \n",
    "plt.bar(y_pos, x, align='center', alpha=0.5)\n",
    "plt.xticks(y_pos, races)\n",
    "plt.ylabel('Percent Difference')\n",
    "plt.title('Precinct-Matching Comparison - Percent Difference')\n",
    " \n",
    "plt.show()"
   ]
  },
  {
   "cell_type": "code",
   "execution_count": null,
   "metadata": {},
   "outputs": [],
   "source": []
  }
 ],
 "metadata": {
  "kernelspec": {
   "display_name": "Python 3",
   "language": "python",
   "name": "python3"
  },
  "language_info": {
   "codemirror_mode": {
    "name": "ipython",
    "version": 3
   },
   "file_extension": ".py",
   "mimetype": "text/x-python",
   "name": "python",
   "nbconvert_exporter": "python",
   "pygments_lexer": "ipython3",
   "version": "3.6.5"
  }
 },
 "nbformat": 4,
 "nbformat_minor": 2
}
